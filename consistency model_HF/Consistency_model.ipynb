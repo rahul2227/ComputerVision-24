{
 "cells": [
  {
   "cell_type": "code",
   "execution_count": null,
   "id": "dcf49e15-a5cf-4885-947f-f3159856b415",
   "metadata": {},
   "outputs": [],
   "source": [
    "import torch\n",
    "from diffusers import ConsistencyModelPipeline\n",
    "\n",
    "device = \"cuda\"\n",
    "# Load the cd_bedroom256_lpips checkpoint.\n",
    "model_id_or_path = \"openai/diffusers-cd_bedroom256_lpips\"\n",
    "pipe = ConsistencyModelPipeline.from_pretrained(model_id_or_path, torch_dtype=torch.float16)\n",
    "pipe.to(device)\n",
    "\n",
    "pipe.unet = torch.compile(pipe.unet, mode=\"reduce-overhead\", fullgraph=True)\n",
    "\n",
    "# Multistep sampling\n",
    "# Timesteps can be explicitly specified; the particular timesteps below are from the original GitHub repo:\n",
    "# https://github.com/openai/consistency_models/blob/main/scripts/launch.sh#L83\n",
    "for _ in range(10):\n",
    "  image = pipe(timesteps=[17, 0]).images[0]\n",
    "  image.show()"
   ]
  },
  {
   "cell_type": "code",
   "execution_count": null,
   "id": "7bfec01b-1cb0-4684-8e8e-939421eee58a",
   "metadata": {},
   "outputs": [],
   "source": []
  }
 ],
 "metadata": {
  "kernelspec": {
   "display_name": "Python 3 (ipykernel)",
   "language": "python",
   "name": "python3"
  },
  "language_info": {
   "codemirror_mode": {
    "name": "ipython",
    "version": 3
   },
   "file_extension": ".py",
   "mimetype": "text/x-python",
   "name": "python",
   "nbconvert_exporter": "python",
   "pygments_lexer": "ipython3",
   "version": "3.12.2"
  }
 },
 "nbformat": 4,
 "nbformat_minor": 5
}
