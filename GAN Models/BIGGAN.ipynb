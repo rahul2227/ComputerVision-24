{
  "cells": [
    {
      "cell_type": "code",
      "execution_count": 6,
      "metadata": {
        "colab": {
          "base_uri": "https://localhost:8080/"
        },
        "id": "ZF-OzlZhoXDv",
        "outputId": "46fc1c7b-78e6-4424-ac9d-2eb03b686b6c"
      },
      "outputs": [
        {
          "output_type": "stream",
          "name": "stdout",
          "text": [
            "Requirement already satisfied: pytorch-pretrained-biggan in /usr/local/lib/python3.10/dist-packages (0.1.1)\n",
            "Requirement already satisfied: torch>=0.4.1 in /usr/local/lib/python3.10/dist-packages (from pytorch-pretrained-biggan) (2.2.0+cpu)\n",
            "Requirement already satisfied: numpy in /usr/local/lib/python3.10/dist-packages (from pytorch-pretrained-biggan) (1.25.2)\n",
            "Requirement already satisfied: boto3 in /usr/local/lib/python3.10/dist-packages (from pytorch-pretrained-biggan) (1.34.88)\n",
            "Requirement already satisfied: requests in /usr/local/lib/python3.10/dist-packages (from pytorch-pretrained-biggan) (2.31.0)\n",
            "Requirement already satisfied: tqdm in /usr/local/lib/python3.10/dist-packages (from pytorch-pretrained-biggan) (4.66.2)\n",
            "Requirement already satisfied: filelock in /usr/local/lib/python3.10/dist-packages (from torch>=0.4.1->pytorch-pretrained-biggan) (3.13.4)\n",
            "Requirement already satisfied: typing-extensions>=4.8.0 in /usr/local/lib/python3.10/dist-packages (from torch>=0.4.1->pytorch-pretrained-biggan) (4.11.0)\n",
            "Requirement already satisfied: sympy in /usr/local/lib/python3.10/dist-packages (from torch>=0.4.1->pytorch-pretrained-biggan) (1.12)\n",
            "Requirement already satisfied: networkx in /usr/local/lib/python3.10/dist-packages (from torch>=0.4.1->pytorch-pretrained-biggan) (3.3)\n",
            "Requirement already satisfied: jinja2 in /usr/local/lib/python3.10/dist-packages (from torch>=0.4.1->pytorch-pretrained-biggan) (3.1.3)\n",
            "Requirement already satisfied: fsspec in /usr/local/lib/python3.10/dist-packages (from torch>=0.4.1->pytorch-pretrained-biggan) (2024.3.1)\n",
            "Requirement already satisfied: botocore<1.35.0,>=1.34.88 in /usr/local/lib/python3.10/dist-packages (from boto3->pytorch-pretrained-biggan) (1.34.88)\n",
            "Requirement already satisfied: jmespath<2.0.0,>=0.7.1 in /usr/local/lib/python3.10/dist-packages (from boto3->pytorch-pretrained-biggan) (1.0.1)\n",
            "Requirement already satisfied: s3transfer<0.11.0,>=0.10.0 in /usr/local/lib/python3.10/dist-packages (from boto3->pytorch-pretrained-biggan) (0.10.1)\n",
            "Requirement already satisfied: charset-normalizer<4,>=2 in /usr/local/lib/python3.10/dist-packages (from requests->pytorch-pretrained-biggan) (3.3.2)\n",
            "Requirement already satisfied: idna<4,>=2.5 in /usr/local/lib/python3.10/dist-packages (from requests->pytorch-pretrained-biggan) (3.7)\n",
            "Requirement already satisfied: urllib3<3,>=1.21.1 in /usr/local/lib/python3.10/dist-packages (from requests->pytorch-pretrained-biggan) (2.0.7)\n",
            "Requirement already satisfied: certifi>=2017.4.17 in /usr/local/lib/python3.10/dist-packages (from requests->pytorch-pretrained-biggan) (2024.2.2)\n",
            "Requirement already satisfied: python-dateutil<3.0.0,>=2.1 in /usr/local/lib/python3.10/dist-packages (from botocore<1.35.0,>=1.34.88->boto3->pytorch-pretrained-biggan) (2.9.0.post0)\n",
            "Requirement already satisfied: MarkupSafe>=2.0 in /usr/local/lib/python3.10/dist-packages (from jinja2->torch>=0.4.1->pytorch-pretrained-biggan) (2.1.5)\n",
            "Requirement already satisfied: mpmath>=0.19 in /usr/local/lib/python3.10/dist-packages (from sympy->torch>=0.4.1->pytorch-pretrained-biggan) (1.3.0)\n",
            "Requirement already satisfied: six>=1.5 in /usr/local/lib/python3.10/dist-packages (from python-dateutil<3.0.0,>=2.1->botocore<1.35.0,>=1.34.88->boto3->pytorch-pretrained-biggan) (1.16.0)\n"
          ]
        }
      ],
      "source": [
        "!pip install pytorch-pretrained-biggan\n"
      ]
    },
    {
      "cell_type": "code",
      "execution_count": null,
      "metadata": {
        "id": "R47fYjBmorzk"
      },
      "outputs": [],
      "source": [
        "class_names= ['Eskimo dog', 'goldfish', 'great grey owl', 'box turtle', 'grey whale', 'sea lion', 'snow leopard', 'grand piano', 'kite', 'hourglass']\n"
      ]
    },
    {
      "cell_type": "code",
      "execution_count": 7,
      "metadata": {
        "id": "cUtQ36oKoxDA",
        "colab": {
          "base_uri": "https://localhost:8080/"
        },
        "outputId": "c74e2145-4f4d-4d2b-ec13-f6954c2e1b88"
      },
      "outputs": [
        {
          "output_type": "stream",
          "name": "stderr",
          "text": [
            "[nltk_data] Downloading package wordnet to /root/nltk_data...\n"
          ]
        },
        {
          "output_type": "execute_result",
          "data": {
            "text/plain": [
              "True"
            ]
          },
          "metadata": {},
          "execution_count": 7
        }
      ],
      "source": [
        "import nltk\n",
        "nltk.download('wordnet')\n"
      ]
    },
    {
      "cell_type": "code",
      "execution_count": 17,
      "metadata": {
        "id": "rZjinw-Xoy-c",
        "colab": {
          "base_uri": "https://localhost:8080/"
        },
        "outputId": "a463682c-3ae3-405c-8447-fb5cde4a80b6"
      },
      "outputs": [
        {
          "output_type": "stream",
          "name": "stdout",
          "text": [
            "Generating images for class: hourglass\n",
            "Image generation complete.\n"
          ]
        }
      ],
      "source": [
        "import torch\n",
        "from pytorch_pretrained_biggan import (BigGAN, one_hot_from_names, truncated_noise_sample,\n",
        "                                       save_as_images)\n",
        "import logging\n",
        "import os\n",
        "\n",
        "# OPTIONAL: Activate logger for more information\n",
        "logging.basicConfig(level=logging.INFO)\n",
        "\n",
        "# Check if GPU is available\n",
        "device = torch.device(\"cuda\" if torch.cuda.is_available() else \"cpu\")\n",
        "\n",
        "# Load pre-trained model and move to GPU if available\n",
        "model = BigGAN.from_pretrained('biggan-deep-256').to(device)\n",
        "\n",
        "# Define class names\n",
        "class_names = ['hourglass']\n",
        "\n",
        "# Define truncation and number of images per class\n",
        "truncation = 0.37\n",
        "num_images_per_class = 100\n",
        "\n",
        "# Create output directory if it doesn't exist\n",
        "output_dir = \"/content/drive/MyDrive/hourglass/\"\n",
        "os.makedirs(output_dir, exist_ok=True)\n",
        "\n",
        "# Loop over each class name\n",
        "for class_name in class_names:\n",
        "    print(f\"Generating images for class: {class_name}\")\n",
        "\n",
        "    # Create one-hot vector for the current class\n",
        "    class_vector = one_hot_from_names([class_name], batch_size=num_images_per_class)\n",
        "\n",
        "    # Generate noise vectors for the current class\n",
        "    noise_vector = truncated_noise_sample(truncation=truncation, batch_size=num_images_per_class)\n",
        "\n",
        "    # Convert to tensors and move to GPU if available\n",
        "    noise_vector = torch.from_numpy(noise_vector).to(device)\n",
        "    class_vector = torch.from_numpy(class_vector).to(device)\n",
        "\n",
        "    # Generate images\n",
        "    with torch.no_grad():\n",
        "        output = model(noise_vector, class_vector, truncation)\n",
        "\n",
        "    # Save images to output folder\n",
        "    save_as_images(output, f'{output_dir}/{class_name}')\n",
        "\n",
        "print(\"Image generation complete.\")\n"
      ]
    },
    {
      "cell_type": "code",
      "execution_count": null,
      "metadata": {
        "id": "n-rJcIeGo05Y"
      },
      "outputs": [],
      "source": []
    },
    {
      "cell_type": "code",
      "execution_count": 2,
      "metadata": {
        "colab": {
          "base_uri": "https://localhost:8080/"
        },
        "id": "jlzDDuTao3wH",
        "outputId": "829c2839-b00c-4a25-c20a-649aca3c604b"
      },
      "outputs": [
        {
          "output_type": "stream",
          "name": "stdout",
          "text": [
            "Drive already mounted at /content/drive; to attempt to forcibly remount, call drive.mount(\"/content/drive\", force_remount=True).\n"
          ]
        }
      ],
      "source": [
        "from google.colab import drive\n",
        "drive.mount('/content/drive')"
      ]
    }
  ],
  "metadata": {
    "accelerator": "TPU",
    "colab": {
      "gpuType": "V28",
      "provenance": []
    },
    "kernelspec": {
      "display_name": "Python 3",
      "name": "python3"
    },
    "language_info": {
      "name": "python"
    }
  },
  "nbformat": 4,
  "nbformat_minor": 0
}